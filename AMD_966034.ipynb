{
  "cells": [
    {
      "cell_type": "markdown",
      "metadata": {
        "id": "bDWw6GekjeAR"
      },
      "source": [
        "### Algorithms for Massive Data: Market-basket Analysis of MedAL Dataset\n",
        "#### The task is to implement a system finding frequent itemsets (aka market-basket analysis), analyzing the MeDAL dataset described in Project 1. The detector must consider as baskets the strings contained in the text column of the  full-data.csv file in the dataset, using words as items.\n"
      ]
    },
    {
      "cell_type": "markdown",
      "metadata": {
        "id": "t2br5xxRjxz8"
      },
      "source": [
        "#### link to the dataset: https://www.kaggle.com/datasets/xhlulu/medal-emnlp"
      ]
    },
    {
      "cell_type": "code",
      "execution_count": 1,
      "metadata": {
        "id": "4s5WN7Cojuta"
      },
      "outputs": [],
      "source": [
        "import pandas as pd\n",
        "import numpy as np\n",
        "import itertools\n",
        "from nltk import word_tokenize\n",
        "from google.colab import drive\n",
        "import time\n",
        "from tqdm import tqdm\n",
        "import matplotlib.pyplot as plt\n",
        "import json\n",
        "import zipfile\n",
        "import seaborn as sns"
      ]
    },
    {
      "cell_type": "code",
      "execution_count": 2,
      "metadata": {
        "id": "WjYHYG1C_96c"
      },
      "outputs": [],
      "source": [
        "# install OpenJDK 8 and download and extract Apache Spark\n",
        "!apt-get install openjdk-8-jdk-headless -qq > /dev/null\n",
        "!wget -q https://dlcdn.apache.org/spark/spark-3.3.2/spark-3.3.2-bin-hadoop3.tgz\n",
        "!tar xf spark-3.3.2-bin-hadoop3.tgz"
      ]
    },
    {
      "cell_type": "code",
      "execution_count": 3,
      "metadata": {
        "id": "952fN4roAErs"
      },
      "outputs": [],
      "source": [
        "#configuring the Java and Spark installations in your Python environment.\n",
        "import os\n",
        "os.environ[\"JAVA_HOME\"] = \"/usr/lib/jvm/java-8-openjdk-amd64\"\n",
        "os.environ[\"SPARK_HOME\"] = \"/content/spark-3.3.2-bin-hadoop3\""
      ]
    },
    {
      "cell_type": "code",
      "execution_count": 4,
      "metadata": {
        "id": "2IMERTwFAGAT"
      },
      "outputs": [],
      "source": [
        "#to locate and initialize Spark within a Python environment\n",
        "!pip install -q findspark\n",
        "import findspark\n",
        "findspark.init()\n",
        "#import the necessary modules from pyspark.sql to work with Spark\n",
        "#create a SparkSession object\n",
        "#obtain the SparkContext\n",
        "from pyspark.sql import SparkSession\n",
        "spark = SparkSession.builder.master(\"local[*]\").getOrCreate()\n",
        "sc = spark.sparkContext"
      ]
    },
    {
      "cell_type": "code",
      "execution_count": 5,
      "metadata": {
        "colab": {
          "base_uri": "https://localhost:8080/"
        },
        "id": "2p--NvUEAOCo",
        "outputId": "da5f76ee-2514-4485-b419-eb3ae4b3013c"
      },
      "outputs": [
        {
          "name": "stdout",
          "output_type": "stream",
          "text": [
            "Downloading medal-emnlp.zip to /content\n",
            "100% 6.82G/6.82G [05:16<00:00, 25.4MB/s]\n",
            "100% 6.82G/6.82G [05:16<00:00, 23.1MB/s]\n"
          ]
        }
      ],
      "source": [
        "# Insert your own kaggle keys\n",
        "os.environ['KAGGLE_USERNAME'] = \" \"\n",
        "os.environ['KAGGLE_KEY'] = \" \"\n",
        "!kaggle datasets download -d xhlulu/medal-emnlp --unzip"
      ]
    },
    {
      "cell_type": "code",
      "execution_count": 6,
      "metadata": {
        "colab": {
          "base_uri": "https://localhost:8080/"
        },
        "id": "fHLwi6NaActC",
        "outputId": "4a9639de-a08d-4a9a-c04b-c48c1920ea07"
      },
      "outputs": [
        {
          "data": {
            "text/plain": [
              "[Row(TEXT='alphabisabolol has a primary antipeptic action depending on dosage which is not caused by an alteration of the phvalue the proteolytic activity of pepsin is reduced by percent through addition of bisabolol in the ratio of the antipeptic action of bisabolol only occurs in case of direct contact in case of a previous contact with the ATP the inhibiting effect is lost', LOCATION='56', LABEL='substrate'),\n",
              " Row(TEXT='a report is given on the recent discovery of outstanding immunological properties in ba ncyanoethyleneurea having a low molecular mass m experiments in ds CS bearing wistar rats have shown that ba at a dosage of only about percent ld mg kg and negligible lethality percent results in a REC rate of percent without hyperglycemia and in one test of percent with hyperglycemia under otherwise unchanged conditions the REF substance ifosfamide if a further development of cyclophosphamide applied without hyperglycemia in its most efficient dosage of percent ld mg kg brought about a recovery rate of percent at a lethality of percent contrary to ba min hyperglycemia caused no further improvement of the REC rate however this comparison is characterized by the fact that both substances exhibit two quite different complementary mechanisms of action leucocyte counts made T3 application of the said cancerostatics and dosages have shown a pronounced stimulation with ba and with ifosfamide the known suppression in the posttherapeutic interval usually found with standard cancerostatics in combination with the cited PI test for ba blood pictures then allow conclusions on the immunity status since if can be taken as one of the most efficient cancerostaticsthere is no other chemotherapeutic known up to now that has a more significant effect on the ds carcinosarcoma in rats these findings are of special importance finally the total amount of leucocytes and lymphocytes as well as their time behaviour was determined from the blood picture of tumourfree rats after iv application of ba the thus obtained numerical values clearly show that further research work on the prophylactic use of this substance seems to be necessary and very promising', LOCATION='24|49|68|113|137|172', LABEL='carcinosarcoma|recovery|reference|recovery|after|plaque')]"
            ]
          },
          "execution_count": 6,
          "metadata": {},
          "output_type": "execute_result"
        }
      ],
      "source": [
        "from pyspark.sql.types import StructType, StructField, IntegerType, StringType, ArrayType\n",
        "# Specify the schema\n",
        "schema = StructType([\n",
        "    StructField(\"TEXT\", StringType()),\n",
        "    StructField(\"LOCATION\", StringType()),\n",
        "    StructField(\"LABEL\", StringType())\n",
        "])\n",
        "\n",
        "# Retrieve the data\n",
        "medal = spark.read.csv(\"full_data.csv\", schema=schema, header=True, sep=\",\")\n",
        "medal.head(2)"
      ]
    },
    {
      "cell_type": "code",
      "execution_count": 7,
      "metadata": {
        "id": "HicEG-wSCZcy"
      },
      "outputs": [],
      "source": [
        "# Select the column \"text\"\n",
        "medal = medal.select(\"TEXT\")\n",
        "# Take a random sample of 0.001 later increase the proportion as an experiment\n",
        "subset = medal.sample(False, 0.0001, seed=12)"
      ]
    },
    {
      "cell_type": "code",
      "execution_count": 8,
      "metadata": {
        "colab": {
          "base_uri": "https://localhost:8080/"
        },
        "id": "YX9Mx7PyCdbR",
        "outputId": "08fbcda3-588f-40c3-8846-41716a34adb6"
      },
      "outputs": [
        {
          "data": {
            "text/plain": [
              "1397"
            ]
          },
          "execution_count": 8,
          "metadata": {},
          "output_type": "execute_result"
        }
      ],
      "source": [
        "# Convert the dataframe to rdd and take the column \"text\"\n",
        "# rdd is a data structure that stores data across multiple machines in a cluster\n",
        "rdd = subset.rdd.map(lambda x: x[0])\n",
        "subset.count()"
      ]
    },
    {
      "cell_type": "code",
      "execution_count": 9,
      "metadata": {
        "colab": {
          "base_uri": "https://localhost:8080/"
        },
        "id": "BBd0dK06CiWm",
        "outputId": "2ef38678-df73-4757-cd17-2f84bc4aec83"
      },
      "outputs": [
        {
          "data": {
            "text/plain": [
              "[Row(TEXT='the presence of a growing tumor can lead to a significant curtailment of a graftversushost reaction as measured by the ability of allogeneic SP cells to induce a host vascular response this interference with the normal pattern of immunological reactions may be a reason for the survival of tumors in an immunologically alien environment')]"
            ]
          },
          "execution_count": 9,
          "metadata": {},
          "output_type": "execute_result"
        }
      ],
      "source": [
        "#inspect\n",
        "subset.take(1)"
      ]
    },
    {
      "cell_type": "code",
      "execution_count": 10,
      "metadata": {
        "colab": {
          "base_uri": "https://localhost:8080/"
        },
        "id": "idh-4_hNErah",
        "outputId": "ffda0e10-647b-4166-abde-ac226da86e43"
      },
      "outputs": [
        {
          "name": "stderr",
          "output_type": "stream",
          "text": [
            "[nltk_data] Downloading package punkt to /root/nltk_data...\n",
            "[nltk_data]   Unzipping tokenizers/punkt.zip.\n",
            "[nltk_data] Downloading package stopwords to /root/nltk_data...\n",
            "[nltk_data]   Unzipping corpora/stopwords.zip.\n",
            "[nltk_data] Downloading package wordnet to /root/nltk_data...\n",
            "[nltk_data] Downloading package omw-1.4 to /root/nltk_data...\n"
          ]
        }
      ],
      "source": [
        "import string\n",
        "import nltk\n",
        "from nltk.stem import WordNetLemmatizer\n",
        "from nltk.tokenize import word_tokenize\n",
        "# Download required nltk data\n",
        "nltk.download('punkt')\n",
        "nltk.download('stopwords')\n",
        "nltk.download('wordnet')\n",
        "nltk.download('omw-1.4')\n",
        "\n",
        "# Define the function for preprocessing text\n",
        "def preprocess(row):\n",
        "    from nltk.corpus import stopwords\n",
        "    # Convert the text to lowercase\n",
        "    text = row.lower()\n",
        "\n",
        "    # Remove punctuation\n",
        "    text = text.translate(str.maketrans('', '', string.punctuation))\n",
        "\n",
        "    # Remove stopwords\n",
        "    stop_words = set(stopwords.words('english'))\n",
        "\n",
        "    # Tokenize\n",
        "    word_tokens = word_tokenize(text)\n",
        "    filtered_words = [word for word in word_tokens if word not in stop_words]\n",
        "\n",
        "    # Lemmatize the words\n",
        "    lemmatizer = WordNetLemmatizer()\n",
        "    lemmatized_words = [lemmatizer.lemmatize(word) for word in filtered_words]\n",
        "\n",
        "    # Return the preprocessed text as a list of unique words\n",
        "    return list(set(lemmatized_words))\n",
        "\n",
        "\n",
        "# Preprocess\n",
        "rdd = rdd.map(preprocess)"
      ]
    },
    {
      "cell_type": "code",
      "execution_count": 11,
      "metadata": {
        "id": "jff7_1vUFrfF"
      },
      "outputs": [],
      "source": [
        "#create_vocabulary function creates a vocabulary of unique words and their corresponding indices\n",
        "def create_vocabulary(rdd):\n",
        "\n",
        "    # Assign a index to each word\n",
        "    #ony unique words\n",
        "    integer2word = rdd.flatMap(lambda line:line)\\\n",
        "                      .distinct().zipWithIndex()\\\n",
        "                      .map(lambda x: (x[1], x[0]))\\\n",
        "                      .collectAsMap()\n",
        "\n",
        "    # Reverse the key, value pairs\n",
        "    word2integer = {value:key for key, value in integer2word.items()}\n",
        "\n",
        "    return integer2word, word2integer\n",
        "\n",
        "# Create the vocabularies\n",
        "# these will be used for decoding and encoding itemsets\n",
        "# encoding is needed to run items in market basket analysis\n",
        "# decoding is needed to map the results back to words\n",
        "#itemsets represent items that frequently occur together\n",
        "# since itemsets are represented as sets of unique identifier\n",
        "integer2word, word2integer = create_vocabulary(rdd)"
      ]
    },
    {
      "cell_type": "code",
      "execution_count": 12,
      "metadata": {
        "id": "7InXxhP3GfAs"
      },
      "outputs": [],
      "source": [
        "# Substitute each word by its corresponding index\n",
        "# take an RDD and a vocabulary dictionary as inputs\n",
        "# substitute each word in the RDD with its corresponding index from the vocabulary.\n",
        "def create_indexing(rdd, vocab):\n",
        " return rdd.map(lambda sentence: [vocab[word] for word in sentence])\n",
        "\n",
        "# the result is a new rdd where each sentence hsa been transformed into a sequence of indices\n",
        "rdd = create_indexing(rdd, word2integer)"
      ]
    },
    {
      "cell_type": "code",
      "execution_count": 13,
      "metadata": {
        "id": "lVQ9Tzj4U6fx"
      },
      "outputs": [],
      "source": [
        "# Define a threshold\n",
        "# is set at 10% of the total rdd\n",
        "threshold = rdd.count()*0.05\n",
        "threshold\n",
        "# Define a list for the final output\n",
        "results = []\n",
        "# Compute frequent singletons using Apriori algorithm\n",
        "# iterate over each sentence and create key-value pairs\n",
        "# for each word, a tuple is created with the word and value is 1. This step counts each word\n",
        "# then, aggregate the counts of each word\n",
        "# then, filter the pairs based on the threshold set before\n",
        "# only key-value pairs above the threshold are retained\n",
        "freq_singletons = rdd.flatMap(lambda sentence: [(word, 1) for word in sentence])\\\n",
        "        .reduceByKey(lambda w1, w2: w1+w2)\\\n",
        "        .filter(lambda t: t[1]>threshold)"
      ]
    },
    {
      "cell_type": "code",
      "execution_count": 14,
      "metadata": {
        "colab": {
          "base_uri": "https://localhost:8080/"
        },
        "id": "cqRD7Lm6U9Jf",
        "outputId": "f7f529e6-2c72-4c05-e47f-f825e3ba75e1"
      },
      "outputs": [
        {
          "data": {
            "text/plain": [
              "[(16498, 87), (4972, 108), (10962, 71), (10398, 98), (5314, 189)]"
            ]
          },
          "execution_count": 14,
          "metadata": {},
          "output_type": "execute_result"
        }
      ],
      "source": [
        "# top 5 frequent singletons by their index\n",
        "# each element represents a word and its count\n",
        "# all these singletons occur more frequently than the threshold\n",
        "# this step identifies words that occur frequently enough to be considered for further analysis\n",
        "freq_singletons.take(5)"
      ]
    },
    {
      "cell_type": "code",
      "execution_count": 15,
      "metadata": {
        "colab": {
          "base_uri": "https://localhost:8080/"
        },
        "id": "aFFT6zZ8U_uw",
        "outputId": "1c2fdb64-bd37-4c07-c934-c6447ddd2762"
      },
      "outputs": [
        {
          "data": {
            "text/plain": [
              "180"
            ]
          },
          "execution_count": 15,
          "metadata": {},
          "output_type": "execute_result"
        }
      ],
      "source": [
        "# retrieves all the elements from the frequent_singletons RDD\n",
        "# calculates the total number of elements\n",
        "len(freq_singletons.collect())"
      ]
    },
    {
      "cell_type": "code",
      "execution_count": 16,
      "metadata": {
        "colab": {
          "base_uri": "https://localhost:8080/"
        },
        "id": "apMH0R-yVs31",
        "outputId": "6b9a7fdd-dbe7-45c2-d3f6-5f033c9f5075"
      },
      "outputs": [
        {
          "data": {
            "text/plain": [
              "[(16498, 87),\n",
              " (4972, 108),\n",
              " (10962, 71),\n",
              " (10398, 98),\n",
              " (5314, 189),\n",
              " (18761, 83),\n",
              " (4298, 107),\n",
              " (3620, 77),\n",
              " (6671, 171),\n",
              " (15146, 90),\n",
              " (14469, 102),\n",
              " (14470, 106),\n",
              " (6674, 123),\n",
              " (5318, 93),\n",
              " (4640, 108),\n",
              " (17861, 147),\n",
              " (6336, 222),\n",
              " (17862, 89),\n",
              " (5320, 102),\n",
              " (4304, 110),\n",
              " (8033, 74),\n",
              " (8825, 102),\n",
              " (8826, 164),\n",
              " (16510, 114),\n",
              " (8827, 73),\n",
              " (5663, 87),\n",
              " (6342, 90),\n",
              " (18208, 274),\n",
              " (8829, 137),\n",
              " (2276, 135),\n",
              " (11881, 93),\n",
              " (9170, 155),\n",
              " (11092, 86),\n",
              " (696, 127),\n",
              " (6007, 74),\n",
              " (13805, 135),\n",
              " (11094, 85),\n",
              " (9852, 281),\n",
              " (18214, 109),\n",
              " (3976, 144),\n",
              " (18215, 113),\n",
              " (12566, 191),\n",
              " (9854, 101),\n",
              " (18555, 130),\n",
              " (16974, 122),\n",
              " (18217, 79),\n",
              " (1380, 75),\n",
              " (7370, 357),\n",
              " (12569, 225),\n",
              " (9857, 87),\n",
              " (9518, 78),\n",
              " (9858, 280),\n",
              " (7034, 95),\n",
              " (18901, 91),\n",
              " (7375, 135),\n",
              " (8848, 94),\n",
              " (7380, 108),\n",
              " (13257, 150),\n",
              " (10773, 129),\n",
              " (15974, 168),\n",
              " (16653, 153),\n",
              " (17331, 75),\n",
              " (15975, 139),\n",
              " (13603, 105),\n",
              " (13942, 118),\n",
              " (15976, 72),\n",
              " (10779, 83),\n",
              " (14283, 110),\n",
              " (15978, 222),\n",
              " (17675, 84),\n",
              " (17336, 71),\n",
              " (13608, 200),\n",
              " (17676, 166),\n",
              " (2647, 124),\n",
              " (7507, 171),\n",
              " (12367, 89),\n",
              " (7508, 169),\n",
              " (13949, 86),\n",
              " (1745, 88),\n",
              " (14289, 77),\n",
              " (18019, 210),\n",
              " (10222, 88),\n",
              " (15308, 77),\n",
              " (12370, 92),\n",
              " (14291, 72),\n",
              " (3783, 168),\n",
              " (5817, 134),\n",
              " (9321, 315),\n",
              " (14293, 179),\n",
              " (15312, 431),\n",
              " (9325, 123),\n",
              " (12376, 154),\n",
              " (4128, 193),\n",
              " (3451, 74),\n",
              " (3790, 93),\n",
              " (14299, 89),\n",
              " (3791, 90),\n",
              " (1758, 77),\n",
              " (3454, 144),\n",
              " (12042, 100),\n",
              " (3455, 123),\n",
              " (180, 103),\n",
              " (3458, 201),\n",
              " (2103, 154),\n",
              " (10578, 302),\n",
              " (182, 129),\n",
              " (12387, 78),\n",
              " (2105, 72),\n",
              " (8998, 82),\n",
              " (9677, 81),\n",
              " (6174, 117),\n",
              " (864, 235),\n",
              " (1203, 173),\n",
              " (16345, 80),\n",
              " (12051, 71),\n",
              " (10586, 132),\n",
              " (9683, 211),\n",
              " (8667, 80),\n",
              " (1209, 145),\n",
              " (5504, 137),\n",
              " (3809, 130),\n",
              " (533, 100),\n",
              " (1211, 104),\n",
              " (7204, 178),\n",
              " (13081, 144),\n",
              " (6866, 79),\n",
              " (17150, 106),\n",
              " (18394, 164),\n",
              " (17151, 86),\n",
              " (6868, 78),\n",
              " (1559, 185),\n",
              " (18396, 86),\n",
              " (17153, 95),\n",
              " (13086, 190),\n",
              " (17154, 137),\n",
              " (7210, 101),\n",
              " (1221, 89),\n",
              " (882, 89),\n",
              " (16816, 89),\n",
              " (18398, 92),\n",
              " (6873, 126),\n",
              " (6874, 130),\n",
              " (1224, 86),\n",
              " (1564, 81),\n",
              " (16819, 92),\n",
              " (15125, 168),\n",
              " (10040, 99),\n",
              " (19080, 72),\n",
              " (15126, 86),\n",
              " (18742, 97),\n",
              " (17161, 79),\n",
              " (15806, 244),\n",
              " (13433, 86),\n",
              " (19083, 85),\n",
              " (6879, 94),\n",
              " (15129, 72),\n",
              " (2812, 126),\n",
              " (13434, 95),\n",
              " (7219, 104),\n",
              " (15131, 201),\n",
              " (6882, 164),\n",
              " (16149, 77),\n",
              " (13777, 160),\n",
              " (15473, 367),\n",
              " (16492, 112),\n",
              " (18752, 84),\n",
              " (3272, 155),\n",
              " (13781, 172),\n",
              " (2820, 76),\n",
              " (12764, 76),\n",
              " (16494, 77),\n",
              " (16155, 80),\n",
              " (16495, 84),\n",
              " (14461, 173),\n",
              " (4969, 73),\n",
              " (18755, 73),\n",
              " (6890, 70),\n",
              " (17852, 81),\n",
              " (12203, 187),\n",
              " (8022, 102)]"
            ]
          },
          "execution_count": 16,
          "metadata": {},
          "output_type": "execute_result"
        }
      ],
      "source": [
        "# Add frequent singletons to result\n",
        "results += freq_singletons.collect()\n",
        "results"
      ]
    },
    {
      "cell_type": "code",
      "execution_count": 17,
      "metadata": {
        "id": "eVpY6MmPVw3F"
      },
      "outputs": [],
      "source": [
        "# Discard the counter\n",
        "#rdd object now contains only the associated word index, without the counts\n",
        "freq_singletons = freq_singletons.map(lambda t: t[0])"
      ]
    },
    {
      "cell_type": "code",
      "execution_count": 18,
      "metadata": {
        "id": "B837IseLV4eS"
      },
      "outputs": [],
      "source": [
        "#apply cartersian trsnformation, by creating all possible combinations of frequent singletons\n",
        "#apply filter to the pairs generated. Filter out pairs that contain duplicate elements\n",
        "#convert each pair into a tuple. Itemsets with the same elements in different orders are consistent\n",
        "#remove duplicates from rdd\n",
        "#collect all items from rdd into a list\n",
        "candidates = freq_singletons.cartesian(freq_singletons)\\\n",
        "                                .filter(lambda t: len(set(t))==len(t))\\\n",
        "                                .map(lambda t: tuple(sorted(t)))\\\n",
        "                                .distinct()\\\n",
        "                                .collect()"
      ]
    },
    {
      "cell_type": "code",
      "execution_count": 19,
      "metadata": {
        "colab": {
          "base_uri": "https://localhost:8080/"
        },
        "id": "YgnFtyti_KLP",
        "outputId": "bfd27db4-9104-43f3-f541-ce0c6ec22a9c"
      },
      "outputs": [
        {
          "data": {
            "text/plain": [
              "[((7370, 15131), 102),\n",
              " ((1559, 15473), 70),\n",
              " ((7370, 13777), 88),\n",
              " ((14293, 15473), 73),\n",
              " ((9321, 15312), 95)]"
            ]
          },
          "execution_count": 19,
          "metadata": {},
          "output_type": "execute_result"
        }
      ],
      "source": [
        "# Compute frequent pairs\n",
        "freq_pairs = rdd.flatMap(lambda sentence: [(tuple(candidate), 1) for candidate in candidates if set(candidate).issubset(set(sentence))])\\\n",
        "                    .reduceByKey(lambda t1,t2: t1+t2)\\\n",
        "                    .filter(lambda t: t[1]>threshold)\n",
        "\n",
        "#inspect\n",
        "freq_pairs.take(5)"
      ]
    },
    {
      "cell_type": "code",
      "execution_count": 20,
      "metadata": {
        "colab": {
          "base_uri": "https://localhost:8080/"
        },
        "id": "4r7R1_1B_PHM",
        "outputId": "950c5d79-b1ba-4605-976b-9b1f8eed9d42"
      },
      "outputs": [
        {
          "data": {
            "text/plain": [
              "63"
            ]
          },
          "execution_count": 20,
          "metadata": {},
          "output_type": "execute_result"
        }
      ],
      "source": [
        "len(freq_pairs.collect())"
      ]
    },
    {
      "cell_type": "code",
      "execution_count": 21,
      "metadata": {
        "id": "UkkDfVZ-_RVL"
      },
      "outputs": [],
      "source": [
        "results+=freq_pairs.collect()"
      ]
    },
    {
      "cell_type": "code",
      "execution_count": 22,
      "metadata": {
        "colab": {
          "base_uri": "https://localhost:8080/"
        },
        "id": "K8sfm-9Q_TFn",
        "outputId": "1dde4e29-f913-41c3-dd5f-026166a23785"
      },
      "outputs": [
        {
          "data": {
            "text/plain": [
              "243"
            ]
          },
          "execution_count": 22,
          "metadata": {},
          "output_type": "execute_result"
        }
      ],
      "source": [
        "len(results)"
      ]
    },
    {
      "cell_type": "code",
      "execution_count": 23,
      "metadata": {
        "id": "MLttHxn-_VOr"
      },
      "outputs": [],
      "source": [
        "# Discard the count in freq_pairs\n",
        "freq_pairs = freq_pairs.map(lambda t: t[0])"
      ]
    },
    {
      "cell_type": "code",
      "execution_count": 24,
      "metadata": {
        "colab": {
          "base_uri": "https://localhost:8080/"
        },
        "id": "iB6FmyRZ_YLn",
        "outputId": "e43c496b-4cbe-47e1-da44-fcfcd56dcafa"
      },
      "outputs": [
        {
          "data": {
            "text/plain": [
              "[(6336, 10578, 15473),\n",
              " (15312, 17676, 18019),\n",
              " (864, 9852, 15473),\n",
              " (6336, 9321, 15473),\n",
              " (7370, 10578, 15312),\n",
              " (2103, 9321, 15473),\n",
              " (9321, 13777, 15312),\n",
              " (12569, 14293, 15473),\n",
              " (6336, 15131, 15312)]"
            ]
          },
          "execution_count": 24,
          "metadata": {},
          "output_type": "execute_result"
        }
      ],
      "source": [
        "# Compute pairs for next iteration\n",
        "candidates = freq_pairs.cartesian(freq_pairs)\\\n",
        "                          .map(lambda tuples: {item for tupla in tuples for item in tupla})\\\n",
        "                          .filter(lambda t: len(t) == 3)\\\n",
        "                          .map(lambda t: tuple(sorted(t)))\\\n",
        "                          .distinct()\\\n",
        "                          .collect()\n",
        "\n",
        "candidates[1:10]"
      ]
    },
    {
      "cell_type": "code",
      "execution_count": 25,
      "metadata": {
        "id": "V5Jx0koI_b6v"
      },
      "outputs": [],
      "source": [
        "# Compute frequent triples\n",
        "freq_triples = rdd.flatMap(lambda sentence: [(tuple(candidate), 1) for candidate in candidates if set(candidate).issubset(set(sentence))])\\\n",
        "                    .reduceByKey(lambda t1,t2: t1+t2)\\\n",
        "                    .filter(lambda t: t[1]>threshold)"
      ]
    },
    {
      "cell_type": "code",
      "execution_count": 26,
      "metadata": {
        "colab": {
          "base_uri": "https://localhost:8080/"
        },
        "id": "qwEnFsqO_dwJ",
        "outputId": "0adde04a-863c-4e32-806a-d8728d78cca4"
      },
      "outputs": [
        {
          "data": {
            "text/plain": [
              "[]"
            ]
          },
          "execution_count": 26,
          "metadata": {},
          "output_type": "execute_result"
        }
      ],
      "source": [
        "freq_triples.take(1)"
      ]
    },
    {
      "cell_type": "code",
      "execution_count": 27,
      "metadata": {
        "colab": {
          "base_uri": "https://localhost:8080/"
        },
        "id": "E41VRmfP_f0J",
        "outputId": "e7d357b6-4c5a-42c5-b21e-aab0d35ca68c"
      },
      "outputs": [
        {
          "data": {
            "text/plain": [
              "0"
            ]
          },
          "execution_count": 27,
          "metadata": {},
          "output_type": "execute_result"
        }
      ],
      "source": [
        "len(freq_triples.collect())"
      ]
    },
    {
      "cell_type": "code",
      "execution_count": 28,
      "metadata": {
        "id": "cuDAOEf7xhOk"
      },
      "outputs": [],
      "source": [
        "results += freq_triples.collect()"
      ]
    },
    {
      "cell_type": "code",
      "execution_count": 29,
      "metadata": {
        "id": "WfepehIhxhSl"
      },
      "outputs": [],
      "source": [
        "freq_triples = freq_triples.map(lambda t: t[0])"
      ]
    },
    {
      "cell_type": "code",
      "execution_count": 30,
      "metadata": {
        "colab": {
          "base_uri": "https://localhost:8080/"
        },
        "id": "sGDmH2CwxhXL",
        "outputId": "00c5ca07-2b31-4726-c60a-6263aa84faba"
      },
      "outputs": [
        {
          "data": {
            "text/plain": [
              "[(16498, 87),\n",
              " (4972, 108),\n",
              " (10962, 71),\n",
              " (10398, 98),\n",
              " (5314, 189),\n",
              " (18761, 83),\n",
              " (4298, 107),\n",
              " (3620, 77),\n",
              " (6671, 171),\n",
              " (15146, 90),\n",
              " (14469, 102),\n",
              " (14470, 106),\n",
              " (6674, 123),\n",
              " (5318, 93),\n",
              " (4640, 108),\n",
              " (17861, 147),\n",
              " (6336, 222),\n",
              " (17862, 89),\n",
              " (5320, 102),\n",
              " (4304, 110),\n",
              " (8033, 74),\n",
              " (8825, 102),\n",
              " (8826, 164),\n",
              " (16510, 114),\n",
              " (8827, 73),\n",
              " (5663, 87),\n",
              " (6342, 90),\n",
              " (18208, 274),\n",
              " (8829, 137),\n",
              " (2276, 135),\n",
              " (11881, 93),\n",
              " (9170, 155),\n",
              " (11092, 86),\n",
              " (696, 127),\n",
              " (6007, 74),\n",
              " (13805, 135),\n",
              " (11094, 85),\n",
              " (9852, 281),\n",
              " (18214, 109),\n",
              " (3976, 144),\n",
              " (18215, 113),\n",
              " (12566, 191),\n",
              " (9854, 101),\n",
              " (18555, 130),\n",
              " (16974, 122),\n",
              " (18217, 79),\n",
              " (1380, 75),\n",
              " (7370, 357),\n",
              " (12569, 225),\n",
              " (9857, 87),\n",
              " (9518, 78),\n",
              " (9858, 280),\n",
              " (7034, 95),\n",
              " (18901, 91),\n",
              " (7375, 135),\n",
              " (8848, 94),\n",
              " (7380, 108),\n",
              " (13257, 150),\n",
              " (10773, 129),\n",
              " (15974, 168),\n",
              " (16653, 153),\n",
              " (17331, 75),\n",
              " (15975, 139),\n",
              " (13603, 105),\n",
              " (13942, 118),\n",
              " (15976, 72),\n",
              " (10779, 83),\n",
              " (14283, 110),\n",
              " (15978, 222),\n",
              " (17675, 84),\n",
              " (17336, 71),\n",
              " (13608, 200),\n",
              " (17676, 166),\n",
              " (2647, 124),\n",
              " (7507, 171),\n",
              " (12367, 89),\n",
              " (7508, 169),\n",
              " (13949, 86),\n",
              " (1745, 88),\n",
              " (14289, 77),\n",
              " (18019, 210),\n",
              " (10222, 88),\n",
              " (15308, 77),\n",
              " (12370, 92),\n",
              " (14291, 72),\n",
              " (3783, 168),\n",
              " (5817, 134),\n",
              " (9321, 315),\n",
              " (14293, 179),\n",
              " (15312, 431),\n",
              " (9325, 123),\n",
              " (12376, 154),\n",
              " (4128, 193),\n",
              " (3451, 74),\n",
              " (3790, 93),\n",
              " (14299, 89),\n",
              " (3791, 90),\n",
              " (1758, 77),\n",
              " (3454, 144),\n",
              " (12042, 100),\n",
              " (3455, 123),\n",
              " (180, 103),\n",
              " (3458, 201),\n",
              " (2103, 154),\n",
              " (10578, 302),\n",
              " (182, 129),\n",
              " (12387, 78),\n",
              " (2105, 72),\n",
              " (8998, 82),\n",
              " (9677, 81),\n",
              " (6174, 117),\n",
              " (864, 235),\n",
              " (1203, 173),\n",
              " (16345, 80),\n",
              " (12051, 71),\n",
              " (10586, 132),\n",
              " (9683, 211),\n",
              " (8667, 80),\n",
              " (1209, 145),\n",
              " (5504, 137),\n",
              " (3809, 130),\n",
              " (533, 100),\n",
              " (1211, 104),\n",
              " (7204, 178),\n",
              " (13081, 144),\n",
              " (6866, 79),\n",
              " (17150, 106),\n",
              " (18394, 164),\n",
              " (17151, 86),\n",
              " (6868, 78),\n",
              " (1559, 185),\n",
              " (18396, 86),\n",
              " (17153, 95),\n",
              " (13086, 190),\n",
              " (17154, 137),\n",
              " (7210, 101),\n",
              " (1221, 89),\n",
              " (882, 89),\n",
              " (16816, 89),\n",
              " (18398, 92),\n",
              " (6873, 126),\n",
              " (6874, 130),\n",
              " (1224, 86),\n",
              " (1564, 81),\n",
              " (16819, 92),\n",
              " (15125, 168),\n",
              " (10040, 99),\n",
              " (19080, 72),\n",
              " (15126, 86),\n",
              " (18742, 97),\n",
              " (17161, 79),\n",
              " (15806, 244),\n",
              " (13433, 86),\n",
              " (19083, 85),\n",
              " (6879, 94),\n",
              " (15129, 72),\n",
              " (2812, 126),\n",
              " (13434, 95),\n",
              " (7219, 104),\n",
              " (15131, 201),\n",
              " (6882, 164),\n",
              " (16149, 77),\n",
              " (13777, 160),\n",
              " (15473, 367),\n",
              " (16492, 112),\n",
              " (18752, 84),\n",
              " (3272, 155),\n",
              " (13781, 172),\n",
              " (2820, 76),\n",
              " (12764, 76),\n",
              " (16494, 77),\n",
              " (16155, 80),\n",
              " (16495, 84),\n",
              " (14461, 173),\n",
              " (4969, 73),\n",
              " (18755, 73),\n",
              " (6890, 70),\n",
              " (17852, 81),\n",
              " (12203, 187),\n",
              " (8022, 102),\n",
              " ((7370, 15131), 102),\n",
              " ((1559, 15473), 70),\n",
              " ((7370, 13777), 88),\n",
              " ((14293, 15473), 73),\n",
              " ((9321, 15312), 95),\n",
              " ((9858, 15312), 108),\n",
              " ((15312, 15806), 101),\n",
              " ((15125, 15312), 77),\n",
              " ((7370, 9858), 73),\n",
              " ((14293, 15312), 75),\n",
              " ((7370, 15473), 93),\n",
              " ((9321, 13805), 80),\n",
              " ((10578, 15806), 74),\n",
              " ((3783, 15312), 78),\n",
              " ((1203, 15312), 70),\n",
              " ((13777, 15312), 70),\n",
              " ((9321, 12203), 82),\n",
              " ((15473, 18208), 86),\n",
              " ((6336, 15473), 72),\n",
              " ((15473, 15806), 93),\n",
              " ((9321, 15473), 92),\n",
              " ((12569, 15312), 88),\n",
              " ((3458, 15312), 71),\n",
              " ((9852, 9858), 77),\n",
              " ((15312, 18019), 87),\n",
              " ((864, 6336), 70),\n",
              " ((9321, 10578), 73),\n",
              " ((864, 15473), 79),\n",
              " ((9683, 15312), 84),\n",
              " ((7370, 15978), 96),\n",
              " ((10578, 15312), 113),\n",
              " ((9170, 9321), 77),\n",
              " ((9321, 9858), 71),\n",
              " ((9852, 10578), 77),\n",
              " ((7370, 18208), 98),\n",
              " ((9852, 18208), 78),\n",
              " ((15312, 18208), 98),\n",
              " ((9321, 9852), 97),\n",
              " ((7370, 15312), 127),\n",
              " ((864, 15312), 79),\n",
              " ((13608, 15312), 82),\n",
              " ((13608, 15473), 78),\n",
              " ((10578, 18208), 76),\n",
              " ((6336, 15312), 73),\n",
              " ((6336, 7370), 74),\n",
              " ((9858, 15473), 88),\n",
              " ((15473, 15978), 77),\n",
              " ((9858, 13608), 70),\n",
              " ((15312, 15473), 141),\n",
              " ((7370, 7508), 75),\n",
              " ((2103, 15473), 80),\n",
              " ((12569, 15473), 81),\n",
              " ((10578, 15473), 104),\n",
              " ((9852, 15312), 96),\n",
              " ((15131, 15312), 78),\n",
              " ((9852, 15473), 103),\n",
              " ((7370, 7375), 74),\n",
              " ((9321, 18208), 80),\n",
              " ((15312, 15978), 73),\n",
              " ((15312, 17676), 72),\n",
              " ((1559, 15312), 70),\n",
              " ((182, 15473), 73),\n",
              " ((9683, 15473), 77)]"
            ]
          },
          "execution_count": 30,
          "metadata": {},
          "output_type": "execute_result"
        }
      ],
      "source": [
        "results"
      ]
    },
    {
      "cell_type": "code",
      "execution_count": 31,
      "metadata": {
        "id": "zVncsCZCxhbb"
      },
      "outputs": [],
      "source": [
        "# Re-convert the indexes\n",
        "results = [(integer2word[t[0]],t[1]) if type(t[0])==int else (tuple([integer2word[element] for element in t[0]]),t[1]) for t in results]"
      ]
    },
    {
      "cell_type": "code",
      "execution_count": 32,
      "metadata": {
        "colab": {
          "base_uri": "https://localhost:8080/"
        },
        "id": "zi7NG8Vlxhfj",
        "outputId": "98ee163e-7ae1-4602-e7a2-2476df9b1bc8"
      },
      "outputs": [
        {
          "data": {
            "text/plain": [
              "[('structure', 87),\n",
              " ('condition', 108),\n",
              " ('cancer', 71),\n",
              " ('presence', 98),\n",
              " ('increased', 189),\n",
              " ('approach', 83),\n",
              " ('similar', 107),\n",
              " ('detected', 77),\n",
              " ('present', 171),\n",
              " ('specific', 90),\n",
              " ('identified', 102),\n",
              " ('risk', 106),\n",
              " ('t3', 123),\n",
              " ('region', 93),\n",
              " ('respectively', 108),\n",
              " ('use', 147),\n",
              " ('one', 222),\n",
              " ('treated', 89),\n",
              " ('therapy', 102),\n",
              " ('day', 110),\n",
              " ('whether', 74),\n",
              " ('demonstrated', 102),\n",
              " ('high', 164),\n",
              " ('within', 114),\n",
              " ('total', 73),\n",
              " ('following', 87),\n",
              " ('induced', 90),\n",
              " ('may', 274),\n",
              " ('could', 137),\n",
              " ('model', 135),\n",
              " ('h', 93),\n",
              " ('human', 155),\n",
              " ('interaction', 86),\n",
              " ('three', 127),\n",
              " ('cause', 74),\n",
              " ('expression', 135),\n",
              " ('technique', 85),\n",
              " ('also', 281),\n",
              " ('rat', 109),\n",
              " ('type', 144),\n",
              " ('several', 113),\n",
              " ('t0', 191),\n",
              " ('performed', 101),\n",
              " ('potential', 130),\n",
              " ('number', 122),\n",
              " ('animal', 79),\n",
              " ('reduction', 75),\n",
              " ('patient', 357),\n",
              " ('used', 225),\n",
              " ('mm', 87),\n",
              " ('evaluated', 78),\n",
              " ('using', 280),\n",
              " ('reported', 95),\n",
              " ('measured', 91),\n",
              " ('year', 135),\n",
              " ('among', 94),\n",
              " ('tissue', 108),\n",
              " ('system', 150),\n",
              " ('process', 129),\n",
              " ('different', 168),\n",
              " ('response', 153),\n",
              " ('infection', 75),\n",
              " ('important', 139),\n",
              " ('test', 105),\n",
              " ('investigated', 118),\n",
              " ('application', 72),\n",
              " ('without', 83),\n",
              " ('normal', 110),\n",
              " ('treatment', 222),\n",
              " ('mean', 84),\n",
              " ('range', 71),\n",
              " ('analysis', 200),\n",
              " ('role', 166),\n",
              " ('first', 124),\n",
              " ('well', 171),\n",
              " ('determined', 89),\n",
              " ('p', 169),\n",
              " ('decreased', 86),\n",
              " ('shown', 88),\n",
              " ('indicate', 77),\n",
              " ('data', 210),\n",
              " ('studied', 88),\n",
              " ('experiment', 77),\n",
              " ('revealed', 92),\n",
              " ('review', 72),\n",
              " ('significant', 168),\n",
              " ('mechanism', 134),\n",
              " ('cell', 315),\n",
              " ('showed', 179),\n",
              " ('study', 431),\n",
              " ('due', 123),\n",
              " ('group', 154),\n",
              " ('c', 193),\n",
              " ('reaction', 74),\n",
              " ('le', 93),\n",
              " ('low', 89),\n",
              " ('lower', 90),\n",
              " ('novel', 77),\n",
              " ('finding', 144),\n",
              " ('developed', 100),\n",
              " ('concentration', 123),\n",
              " ('acid', 103),\n",
              " ('found', 201),\n",
              " ('show', 154),\n",
              " ('effect', 302),\n",
              " ('suggest', 129),\n",
              " ('n', 78),\n",
              " ('period', 72),\n",
              " ('sample', 82),\n",
              " ('vitro', 81),\n",
              " ('based', 117),\n",
              " ('two', 235),\n",
              " ('factor', 173),\n",
              " ('individual', 80),\n",
              " ('molecular', 71),\n",
              " ('function', 132),\n",
              " ('compared', 211),\n",
              " ('various', 80),\n",
              " ('rate', 145),\n",
              " ('higher', 137),\n",
              " ('gene', 130),\n",
              " ('although', 100),\n",
              " ('growth', 104),\n",
              " ('activity', 178),\n",
              " ('increase', 144),\n",
              " ('determine', 79),\n",
              " ('report', 106),\n",
              " ('time', 164),\n",
              " ('receptor', 86),\n",
              " ('small', 78),\n",
              " ('level', 185),\n",
              " ('population', 86),\n",
              " ('thus', 95),\n",
              " ('control', 190),\n",
              " ('case', 137),\n",
              " ('development', 101),\n",
              " ('evidence', 89),\n",
              " ('many', 89),\n",
              " ('form', 89),\n",
              " ('age', 92),\n",
              " ('new', 126),\n",
              " ('including', 130),\n",
              " ('reduced', 86),\n",
              " ('examined', 81),\n",
              " ('blood', 92),\n",
              " ('significantly', 168),\n",
              " ('mouse', 99),\n",
              " ('therefore', 72),\n",
              " ('relationship', 86),\n",
              " ('value', 97),\n",
              " ('whereas', 79),\n",
              " ('however', 244),\n",
              " ('known', 86),\n",
              " ('related', 85),\n",
              " ('ca', 94),\n",
              " ('c2', 72),\n",
              " ('difference', 126),\n",
              " ('either', 95),\n",
              " ('addition', 104),\n",
              " ('disease', 201),\n",
              " ('associated', 164),\n",
              " ('early', 77),\n",
              " ('clinical', 160),\n",
              " ('result', 367),\n",
              " ('complex', 112),\n",
              " ('single', 84),\n",
              " ('change', 155),\n",
              " ('method', 172),\n",
              " ('drug', 76),\n",
              " ('research', 76),\n",
              " ('formation', 77),\n",
              " ('site', 80),\n",
              " ('possible', 84),\n",
              " ('observed', 173),\n",
              " ('influence', 73),\n",
              " ('common', 73),\n",
              " ('aim', 70),\n",
              " ('four', 81),\n",
              " ('protein', 187),\n",
              " ('obtained', 102),\n",
              " (('patient', 'disease'), 102),\n",
              " (('level', 'result'), 70),\n",
              " (('patient', 'clinical'), 88),\n",
              " (('showed', 'result'), 73),\n",
              " (('cell', 'study'), 95),\n",
              " (('using', 'study'), 108),\n",
              " (('study', 'however'), 101),\n",
              " (('significantly', 'study'), 77),\n",
              " (('patient', 'using'), 73),\n",
              " (('showed', 'study'), 75),\n",
              " (('patient', 'result'), 93),\n",
              " (('cell', 'expression'), 80),\n",
              " (('effect', 'however'), 74),\n",
              " (('significant', 'study'), 78),\n",
              " (('factor', 'study'), 70),\n",
              " (('clinical', 'study'), 70),\n",
              " (('cell', 'protein'), 82),\n",
              " (('result', 'may'), 86),\n",
              " (('one', 'result'), 72),\n",
              " (('result', 'however'), 93),\n",
              " (('cell', 'result'), 92),\n",
              " (('used', 'study'), 88),\n",
              " (('found', 'study'), 71),\n",
              " (('also', 'using'), 77),\n",
              " (('study', 'data'), 87),\n",
              " (('two', 'one'), 70),\n",
              " (('cell', 'effect'), 73),\n",
              " (('two', 'result'), 79),\n",
              " (('compared', 'study'), 84),\n",
              " (('patient', 'treatment'), 96),\n",
              " (('effect', 'study'), 113),\n",
              " (('human', 'cell'), 77),\n",
              " (('cell', 'using'), 71),\n",
              " (('also', 'effect'), 77),\n",
              " (('patient', 'may'), 98),\n",
              " (('also', 'may'), 78),\n",
              " (('study', 'may'), 98),\n",
              " (('cell', 'also'), 97),\n",
              " (('patient', 'study'), 127),\n",
              " (('two', 'study'), 79),\n",
              " (('analysis', 'study'), 82),\n",
              " (('analysis', 'result'), 78),\n",
              " (('effect', 'may'), 76),\n",
              " (('one', 'study'), 73),\n",
              " (('one', 'patient'), 74),\n",
              " (('using', 'result'), 88),\n",
              " (('result', 'treatment'), 77),\n",
              " (('using', 'analysis'), 70),\n",
              " (('study', 'result'), 141),\n",
              " (('patient', 'p'), 75),\n",
              " (('show', 'result'), 80),\n",
              " (('used', 'result'), 81),\n",
              " (('effect', 'result'), 104),\n",
              " (('also', 'study'), 96),\n",
              " (('disease', 'study'), 78),\n",
              " (('also', 'result'), 103),\n",
              " (('patient', 'year'), 74),\n",
              " (('cell', 'may'), 80),\n",
              " (('study', 'treatment'), 73),\n",
              " (('study', 'role'), 72),\n",
              " (('level', 'study'), 70),\n",
              " (('suggest', 'result'), 73),\n",
              " (('compared', 'result'), 77)]"
            ]
          },
          "execution_count": 32,
          "metadata": {},
          "output_type": "execute_result"
        }
      ],
      "source": [
        "results"
      ]
    },
    {
      "cell_type": "markdown",
      "metadata": {
        "id": "dd7NQjhrqsrF"
      },
      "source": [
        "###Experiment: Adjusting threshold since previous implementation does not produce a lot of medically meaningful results - adjust minimum support, minimum confidence, itemset size"
      ]
    },
    {
      "cell_type": "code",
      "execution_count": 33,
      "metadata": {
        "id": "0ZVNb9hOq12g"
      },
      "outputs": [],
      "source": [
        "\"\"\"\n",
        "    Generate frequent itemsets using the Apriori algorithm.\n",
        "\n",
        "    Inputs:\n",
        "        rdd (DataFrame): The input rdd containing the data to be analyzed.\n",
        "        perc_threshold (float): The threshold percentage of frequency below which an item is pruned.\n",
        "        max_itemset_size (int): The maximum size of the itemset to generate. If None, no limit is imposed.\n",
        "\n",
        "    Returns:\n",
        "        list: A list of frequent itemsets.\n",
        "    \"\"\"\n",
        "\n",
        "def apriori(rdd, perc_threshold=.01, max_itemset_size = \"none\"):\n",
        "  # Compute the threshold on the basis of the percentage received as argument\n",
        "  threshold = rdd.count()*perc_threshold\n",
        "\n",
        "  # Preprocess the rdd\n",
        "  rdd = rdd.map(preprocess)\n",
        "\n",
        "  # Create the vocabularies: word2integer and integer2word\n",
        "  integer2word, word2integer = create_vocabulary(rdd)\n",
        "\n",
        "  # Index the rdd\n",
        "  rdd = create_indexing(rdd, word2integer)\n",
        "\n",
        "  # Define a counter, a flag, a list for storing the results and for storing the candidates\n",
        "  iterate = True\n",
        "  results = []\n",
        "  candidates = []\n",
        "\n",
        "  # Compute frequent singletons\n",
        "  frequent_singletons = rdd.flatMap(lambda sentence: [(word, 1) for word in sentence])\\\n",
        "        .reduceByKey(lambda w1, w2: w1+w2)\\\n",
        "        .filter(lambda t: t[1]>threshold)\n",
        "\n",
        "  # Add the frequent singletons to the result\n",
        "  results += frequent_singletons.collect()\n",
        "\n",
        "  # Remove the count\n",
        "  frequent_singletons = frequent_singletons.map(lambda t:t[0])\n",
        "\n",
        "  # Comput candidates for next iteration by computing the cartesian product between\n",
        "  # the list of frequent singletons and itself. Discard the couples with the same\n",
        "  # element repeated and couples with same elements in different order\n",
        "  candidates = frequent_singletons.cartesian(frequent_singletons)\\\n",
        "                                .filter(lambda t: len(set(t))==len(t))\\\n",
        "                                .map(lambda t: tuple(sorted(t)))\\\n",
        "                                .distinct()\\\n",
        "                                .collect()\n",
        "\n",
        "  # Define the candidate size, starting from triples\n",
        "  candidate_size = 3\n",
        "\n",
        "  while iterate:\n",
        "\n",
        "    # If the maximum itemset size is 1, exit the loop\n",
        "    if max_itemset_size ==1:\n",
        "      break\n",
        "\n",
        "    # Filtering Phase\n",
        "    frequent_k_itemset = rdd.flatMap(lambda sentence: [(tuple(candidate), 1) for candidate in candidates if set(candidate).issubset(set(sentence))])\\\n",
        "                    .reduceByKey(lambda t1,t2: t1+t2)\\\n",
        "                    .filter(lambda t: t[1]>threshold)\n",
        "\n",
        "    # Add the filtered items to the result list\n",
        "    results += frequent_k_itemset.collect()\n",
        "\n",
        "    # Remove the count\n",
        "    frequent_k_itemset = frequent_k_itemset.map(lambda t:t[0])\n",
        "\n",
        "    # Compute candidates for the next iteration\n",
        "    candidates = frequent_k_itemset.cartesian(frequent_k_itemset)\\\n",
        "                          .map(lambda tuples: {item for tupla in tuples for item in tupla})\\\n",
        "                          .filter(lambda t: len(t) == candidate_size)\\\n",
        "                          .map(lambda t: tuple(sorted(t)))\\\n",
        "                          .distinct()\\\n",
        "                          .collect()\n",
        "\n",
        "    # Iterate until the candidate set is empty or the max itemset size has been reached\n",
        "    if ((max_itemset_size==\"none\") and (len(candidates) == 0)) or ((max_itemset_size != \"none\") and (candidate_size-1 == max_itemset_size)):\n",
        "      iterate = False\n",
        "\n",
        "    candidate_size += 1\n",
        "\n",
        "  return [(integer2word[t[0]],t[1]) if type(t[0])==int else (tuple([integer2word[element] for element in t[0]]),t[1]) for t in results]"
      ]
    },
    {
      "cell_type": "code",
      "execution_count": 34,
      "metadata": {
        "colab": {
          "base_uri": "https://localhost:8080/"
        },
        "id": "1jylsHz2asPN",
        "outputId": "03be8bf4-90d3-46bf-af03-ce98c6bf9ce2"
      },
      "outputs": [
        {
          "data": {
            "text/plain": [
              "[('structure', 87),\n",
              " ('condition', 108),\n",
              " ('cancer', 71),\n",
              " ('presence', 98),\n",
              " ('increased', 189),\n",
              " ('approach', 83),\n",
              " ('similar', 107),\n",
              " ('detected', 77),\n",
              " ('present', 171),\n",
              " ('specific', 90),\n",
              " ('identified', 102),\n",
              " ('risk', 106),\n",
              " ('t3', 123),\n",
              " ('region', 93),\n",
              " ('respectively', 108),\n",
              " ('use', 147),\n",
              " ('one', 222),\n",
              " ('treated', 89),\n",
              " ('therapy', 102),\n",
              " ('day', 110),\n",
              " ('whether', 74),\n",
              " ('demonstrated', 102),\n",
              " ('high', 164),\n",
              " ('within', 114),\n",
              " ('total', 73),\n",
              " ('following', 87),\n",
              " ('induced', 90),\n",
              " ('may', 274),\n",
              " ('could', 137),\n",
              " ('model', 135),\n",
              " ('h', 93),\n",
              " ('human', 155),\n",
              " ('interaction', 86),\n",
              " ('three', 127),\n",
              " ('cause', 74),\n",
              " ('expression', 135),\n",
              " ('technique', 85),\n",
              " ('also', 281),\n",
              " ('rat', 109),\n",
              " ('type', 144),\n",
              " ('several', 113),\n",
              " ('t0', 191),\n",
              " ('performed', 101),\n",
              " ('potential', 130),\n",
              " ('number', 122),\n",
              " ('animal', 79),\n",
              " ('reduction', 75),\n",
              " ('patient', 357),\n",
              " ('used', 225),\n",
              " ('mm', 87),\n",
              " ('evaluated', 78),\n",
              " ('using', 280),\n",
              " ('reported', 95),\n",
              " ('measured', 91),\n",
              " ('year', 135),\n",
              " ('among', 94),\n",
              " ('tissue', 108),\n",
              " ('system', 150),\n",
              " ('process', 129),\n",
              " ('different', 168),\n",
              " ('response', 153),\n",
              " ('infection', 75),\n",
              " ('important', 139),\n",
              " ('test', 105),\n",
              " ('investigated', 118),\n",
              " ('application', 72),\n",
              " ('without', 83),\n",
              " ('normal', 110),\n",
              " ('treatment', 222),\n",
              " ('mean', 84),\n",
              " ('range', 71),\n",
              " ('analysis', 200),\n",
              " ('role', 166),\n",
              " ('first', 124),\n",
              " ('well', 171),\n",
              " ('determined', 89),\n",
              " ('p', 169),\n",
              " ('decreased', 86),\n",
              " ('shown', 88),\n",
              " ('indicate', 77),\n",
              " ('data', 210),\n",
              " ('studied', 88),\n",
              " ('experiment', 77),\n",
              " ('revealed', 92),\n",
              " ('review', 72),\n",
              " ('significant', 168),\n",
              " ('mechanism', 134),\n",
              " ('cell', 315),\n",
              " ('showed', 179),\n",
              " ('study', 431),\n",
              " ('due', 123),\n",
              " ('group', 154),\n",
              " ('c', 193),\n",
              " ('reaction', 74),\n",
              " ('le', 93),\n",
              " ('low', 89),\n",
              " ('lower', 90),\n",
              " ('novel', 77),\n",
              " ('finding', 144),\n",
              " ('developed', 100),\n",
              " ('concentration', 123),\n",
              " ('acid', 103),\n",
              " ('found', 201),\n",
              " ('show', 154),\n",
              " ('effect', 302),\n",
              " ('suggest', 129),\n",
              " ('n', 78),\n",
              " ('period', 72),\n",
              " ('sample', 82),\n",
              " ('vitro', 81),\n",
              " ('based', 117),\n",
              " ('two', 235),\n",
              " ('factor', 173),\n",
              " ('individual', 80),\n",
              " ('molecular', 71),\n",
              " ('function', 132),\n",
              " ('compared', 211),\n",
              " ('various', 80),\n",
              " ('rate', 145),\n",
              " ('higher', 137),\n",
              " ('gene', 130),\n",
              " ('although', 100),\n",
              " ('growth', 104),\n",
              " ('activity', 178),\n",
              " ('increase', 144),\n",
              " ('determine', 79),\n",
              " ('report', 106),\n",
              " ('time', 164),\n",
              " ('receptor', 86),\n",
              " ('small', 78),\n",
              " ('level', 185),\n",
              " ('population', 86),\n",
              " ('thus', 95),\n",
              " ('control', 190),\n",
              " ('case', 137),\n",
              " ('development', 101),\n",
              " ('evidence', 89),\n",
              " ('many', 89),\n",
              " ('form', 89),\n",
              " ('age', 92),\n",
              " ('new', 126),\n",
              " ('including', 130),\n",
              " ('reduced', 86),\n",
              " ('examined', 81),\n",
              " ('blood', 92),\n",
              " ('significantly', 168),\n",
              " ('mouse', 99),\n",
              " ('therefore', 72),\n",
              " ('relationship', 86),\n",
              " ('value', 97),\n",
              " ('whereas', 79),\n",
              " ('however', 244),\n",
              " ('known', 86),\n",
              " ('related', 85),\n",
              " ('ca', 94),\n",
              " ('c2', 72),\n",
              " ('difference', 126),\n",
              " ('either', 95),\n",
              " ('addition', 104),\n",
              " ('disease', 201),\n",
              " ('associated', 164),\n",
              " ('early', 77),\n",
              " ('clinical', 160),\n",
              " ('result', 367),\n",
              " ('complex', 112),\n",
              " ('single', 84),\n",
              " ('change', 155),\n",
              " ('method', 172),\n",
              " ('drug', 76),\n",
              " ('research', 76),\n",
              " ('formation', 77),\n",
              " ('site', 80),\n",
              " ('possible', 84),\n",
              " ('observed', 173),\n",
              " ('influence', 73),\n",
              " ('common', 73),\n",
              " ('aim', 70),\n",
              " ('four', 81),\n",
              " ('protein', 187),\n",
              " ('obtained', 102),\n",
              " (('patient', 'disease'), 102),\n",
              " (('level', 'result'), 70),\n",
              " (('patient', 'clinical'), 88),\n",
              " (('showed', 'result'), 73),\n",
              " (('cell', 'study'), 95),\n",
              " (('using', 'study'), 108),\n",
              " (('study', 'however'), 101),\n",
              " (('significantly', 'study'), 77),\n",
              " (('patient', 'using'), 73),\n",
              " (('showed', 'study'), 75),\n",
              " (('patient', 'result'), 93),\n",
              " (('cell', 'expression'), 80),\n",
              " (('effect', 'however'), 74),\n",
              " (('significant', 'study'), 78),\n",
              " (('factor', 'study'), 70),\n",
              " (('clinical', 'study'), 70),\n",
              " (('cell', 'protein'), 82),\n",
              " (('result', 'may'), 86),\n",
              " (('one', 'result'), 72),\n",
              " (('result', 'however'), 93),\n",
              " (('cell', 'result'), 92),\n",
              " (('used', 'study'), 88),\n",
              " (('found', 'study'), 71),\n",
              " (('also', 'using'), 77),\n",
              " (('study', 'data'), 87),\n",
              " (('two', 'one'), 70),\n",
              " (('cell', 'effect'), 73),\n",
              " (('two', 'result'), 79),\n",
              " (('compared', 'study'), 84),\n",
              " (('patient', 'treatment'), 96),\n",
              " (('effect', 'study'), 113),\n",
              " (('human', 'cell'), 77),\n",
              " (('cell', 'using'), 71),\n",
              " (('also', 'effect'), 77),\n",
              " (('patient', 'may'), 98),\n",
              " (('also', 'may'), 78),\n",
              " (('study', 'may'), 98),\n",
              " (('cell', 'also'), 97),\n",
              " (('patient', 'study'), 127),\n",
              " (('two', 'study'), 79),\n",
              " (('analysis', 'study'), 82),\n",
              " (('analysis', 'result'), 78),\n",
              " (('effect', 'may'), 76),\n",
              " (('one', 'study'), 73),\n",
              " (('one', 'patient'), 74),\n",
              " (('using', 'result'), 88),\n",
              " (('result', 'treatment'), 77),\n",
              " (('using', 'analysis'), 70),\n",
              " (('study', 'result'), 141),\n",
              " (('patient', 'p'), 75),\n",
              " (('show', 'result'), 80),\n",
              " (('used', 'result'), 81),\n",
              " (('effect', 'result'), 104),\n",
              " (('also', 'study'), 96),\n",
              " (('disease', 'study'), 78),\n",
              " (('also', 'result'), 103),\n",
              " (('patient', 'year'), 74),\n",
              " (('cell', 'may'), 80),\n",
              " (('study', 'treatment'), 73),\n",
              " (('study', 'role'), 72),\n",
              " (('level', 'study'), 70),\n",
              " (('suggest', 'result'), 73),\n",
              " (('compared', 'result'), 77)]"
            ]
          },
          "execution_count": 34,
          "metadata": {},
          "output_type": "execute_result"
        }
      ],
      "source": [
        "# The 0.03 value sets the minimum support threshold to 3% of the dataset size\n",
        "#results = apriori(subset, 0.03)\n",
        "results"
      ]
    }
  ],
  "metadata": {
    "accelerator": "GPU",
    "colab": {
      "gpuType": "T4",
      "provenance": []
    },
    "kernelspec": {
      "display_name": "Python 3",
      "name": "python3"
    },
    "language_info": {
      "name": "python"
    }
  },
  "nbformat": 4,
  "nbformat_minor": 0
}
